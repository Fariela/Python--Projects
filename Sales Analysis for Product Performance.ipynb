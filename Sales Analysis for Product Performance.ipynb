{
 "cells": [
  {
   "cell_type": "markdown",
   "id": "1497099b-f971-4041-8b79-a77bd4c2caad",
   "metadata": {},
   "source": [
    "## Exercise - Sales Analysis for Product Performance\n",
    "\n",
    "You work for a retail company that sells four different products (Product A, B, C, D). Each product has been tracked over a period of one month for its daily sales. Your task is to analyze the sales data and answer the following questions:\n",
    "\n",
    "Data:\n",
    "\n",
    "| Product   | Day 1 Sales | Day 2 Sales | Day 3 Sales | Day 4 Sales | Day 5 Sales | Day 6 Sales | Day 7 Sales | Day 8 Sales | Day 9 Sales |\n",
    "|-----------|-------------|-------------|-------------|-------------|-------------|-------------|-------------|-------------|-------------|\n",
    "| Product A |      10     |       15    |       8     |       11    |       12    |       10    |       9     |       13    |       14    | \n",
    "| Product B |       8     |        7    |       9     |       10    |        8    |        7    |       9     |       11    |       10    | \n",
    "| Product C |      12     |       10    |      11     |       13    |       12    |       14    |      12     |       10    |       11    |\n",
    "| Product D |       9     |       11    |      10     |       12    |       11    |       10    |       9     |       12    |       11    |\n",
    "\n",
    "Answer the following questions using the data above:\n",
    "\n",
    "1. Which product had the highest average daily sales over the last 9 days?\n",
    "2. Calculate the total sales for each product over the last 9 days.\n",
    "3. Determine the day with the highest sales for each product.\n",
    "4. Identify the product with the highest and lowest total sales for the last 9 days."
   ]
  },
  {
   "cell_type": "markdown",
   "id": "3d1731d0-7ef6-4c7a-88e6-4418ef5b501c",
   "metadata": {},
   "source": [
    "1. Which product had the highest average daily sales over the last 9 days?"
   ]
  },
  {
   "cell_type": "code",
   "execution_count": 11,
   "id": "92f3bd35-1e46-49be-b837-efb59331719d",
   "metadata": {},
   "outputs": [
    {
     "name": "stdout",
     "output_type": "stream",
     "text": [
      "Results for the first 9 days:\n",
      "\n",
      "Product C, has the highest average daily sales over the last 9 days with an average of $12.22\n"
     ]
    }
   ],
   "source": [
    "sales_data = {\n",
    "    'Product A': [10, 15, 8, 11, 12, 10, 9, 13, 14],\n",
    "    'Product B': [8, 7, 9, 10, 8, 7, 9, 11, 10],\n",
    "    'Product C': [12, 10, 11, 13, 14, 12, 11, 13, 14],\n",
    "    'Product D': [9, 11, 10, 12, 11, 10, 9, 12, 11]\n",
    "}\n",
    "\n",
    "avg_daily_sales = {product: sum(sales[:9]) / 9 for product, sales in sales_data.items()}\n",
    "highest_avg_product = max(avg_daily_sales, key=avg_daily_sales.get)\n",
    "highest_avg_sales = avg_daily_sales[highest_avg_product]\n",
    "\n",
    "print(\"Results for the first 9 days:\")\n",
    "print()\n",
    "print(f\"{highest_avg_product}, has the highest average daily sales over the last 9 days with an average of ${highest_avg_sales:.2f}\")"
   ]
  },
  {
   "cell_type": "markdown",
   "id": "b258ac6f-c8f3-43e8-8116-be9deca71a8b",
   "metadata": {},
   "source": [
    "2. Calculate the total sales for each product over the last 9 days."
   ]
  },
  {
   "cell_type": "code",
   "execution_count": 16,
   "id": "15cfce62-3485-4e06-9be2-3a983e482e45",
   "metadata": {},
   "outputs": [
    {
     "name": "stdout",
     "output_type": "stream",
     "text": [
      "2. Total sales for each product over the first 9 days:\n",
      "\n",
      "Product A: $102\n",
      "Product B: $79\n",
      "Product C: $110\n",
      "Product D: $95\n"
     ]
    }
   ],
   "source": [
    "sales_data = {\n",
    "    'Product A': [10, 15, 8, 11, 12, 10, 9, 13, 14],\n",
    "    'Product B': [8, 7, 9, 10, 8, 7, 9, 11, 10],\n",
    "    'Product C': [12, 10, 11, 13, 14, 12, 11, 13, 14],\n",
    "    'Product D': [9, 11, 10, 12, 11, 10, 9, 12, 11]\n",
    "}\n",
    "\n",
    "total_sales = {product: sum(sales[:9]) for product, sales in sales_data.items()}\n",
    "\n",
    "print(\"2. Total sales for each product over the first 9 days:\")\n",
    "print()\n",
    "for product, total in total_sales.items():\n",
    "    print(f\"{product}: ${total}\")"
   ]
  },
  {
   "cell_type": "markdown",
   "id": "6b49491e-1299-4e16-a489-1b43a0cfb925",
   "metadata": {},
   "source": [
    "3. Determine the day with the highest sales for each product."
   ]
  },
  {
   "cell_type": "code",
   "execution_count": 15,
   "id": "ff2cdf67-fcbf-4fdf-8715-18d2b3ec431e",
   "metadata": {},
   "outputs": [
    {
     "name": "stdout",
     "output_type": "stream",
     "text": [
      "3. Day with the highest sales for each product over the first 9 days:\n",
      "\n",
      "Product A: Day 2 with 15 units sold\n",
      "Product B: Day 8 with 11 units sold\n",
      "Product C: Day 5 with 14 units sold\n",
      "Product D: Day 4 with 12 units sold\n"
     ]
    }
   ],
   "source": [
    "sales_data = {\n",
    "    'Product A': [10, 15, 8, 11, 12, 10, 9, 13, 14],\n",
    "    'Product B': [8, 7, 9, 10, 8, 7, 9, 11, 10],\n",
    "    'Product C': [12, 10, 11, 13, 14, 12, 11, 13, 14],\n",
    "    'Product D': [9, 11, 10, 12, 11, 10, 9, 12, 11]\n",
    "}\n",
    "\n",
    "max_sales_day = {product: max(sales[:9]) for product, sales in sales_data.items()}\n",
    "\n",
    "print(\"3. Day with the highest sales for each product over the first 9 days:\")\n",
    "print()\n",
    "for product, day in max_sales_day.items():\n",
    "    print(f\"{product}: Day {sales_data[product].index(day) + 1} with {day} units sold\")"
   ]
  },
  {
   "cell_type": "markdown",
   "id": "28ba9ede-f245-4528-8f61-bb39aa04c1b9",
   "metadata": {},
   "source": [
    "4. Identify the product with the highest and lowest total sales for the last 9 days."
   ]
  },
  {
   "cell_type": "code",
   "execution_count": 20,
   "id": "f8b54392-757f-44cc-9e83-99548adeb363",
   "metadata": {},
   "outputs": [
    {
     "name": "stdout",
     "output_type": "stream",
     "text": [
      "Product with the highest total sales over the first 9 days: Product C with $110\n",
      "\n",
      "Product with the lowest total sales over the first 9 days: Product B with $79\n"
     ]
    }
   ],
   "source": [
    "sales_data = {\n",
    "    'Product A': [10, 15, 8, 11, 12, 10, 9, 13, 14],\n",
    "    'Product B': [8, 7, 9, 10, 8, 7, 9, 11, 10],\n",
    "    'Product C': [12, 10, 11, 13, 14, 12, 11, 13, 14],\n",
    "    'Product D': [9, 11, 10, 12, 11, 10, 9, 12, 11]\n",
    "}\n",
    "\n",
    "max_total_sales_product = max(total_sales, key=total_sales.get)\n",
    "min_total_sales_product = min(total_sales, key=total_sales.get)\n",
    "\n",
    "print(f\"Product with the highest total sales over the first 9 days: {max_total_sales_product} with ${total_sales[max_total_sales_product]}\")\n",
    "print()\n",
    "print(f\"Product with the lowest total sales over the first 9 days: {min_total_sales_product} with ${total_sales[min_total_sales_product]}\")"
   ]
  }
 ],
 "metadata": {
  "kernelspec": {
   "display_name": "Python 3 (ipykernel)",
   "language": "python",
   "name": "python3"
  },
  "language_info": {
   "codemirror_mode": {
    "name": "ipython",
    "version": 3
   },
   "file_extension": ".py",
   "mimetype": "text/x-python",
   "name": "python",
   "nbconvert_exporter": "python",
   "pygments_lexer": "ipython3",
   "version": "3.11.7"
  }
 },
 "nbformat": 4,
 "nbformat_minor": 5
}
