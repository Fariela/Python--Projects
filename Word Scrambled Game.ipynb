{
 "cells": [
  {
   "cell_type": "code",
   "execution_count": null,
   "id": "2357f819-de38-43d8-8369-9019202389cb",
   "metadata": {},
   "outputs": [
    {
     "name": "stdout",
     "output_type": "stream",
     "text": [
      "Welcome to the Word Scramble Game!\n",
      "Unscramble the letters to form a valid word.\n",
      "The scrambled word is: fltfciuid\n"
     ]
    }
   ],
   "source": [
    "import random\n",
    "\n",
    "def scramble_word(word):\n",
    "    scrambled = list(word)\n",
    "    random.shuffle(scrambled)\n",
    "    return ''.join(scrambled)\n",
    "\n",
    "def word_scramble_game():\n",
    "    word_list = [\"python\", \"jumble\", \"easy\", \"difficult\", \"answer\", \"xylophone\"]\n",
    "    selected_word = random.choice(word_list)\n",
    "    scrambled_word = scramble_word(selected_word)\n",
    "    attempts = 0\n",
    "    max_attempts = 3\n",
    "\n",
    "    print(\"Welcome to the Word Scramble Game!\")\n",
    "    print(\"Unscramble the letters to form a valid word.\")\n",
    "    print(f\"The scrambled word is: {scrambled_word}\")\n",
    "\n",
    "    while attempts < max_attempts:\n",
    "        guess = input(f\"Attempt {attempts + 1}/{max_attempts}: Enter your guess: \").strip().lower()\n",
    "        attempts += 1\n",
    "\n",
    "        if guess == selected_word:\n",
    "            print(f\"Congratulations! You guessed the word in {attempts} attempts.\")\n",
    "            break\n",
    "        else:\n",
    "            print(\"Incorrect guess. Try again.\")\n",
    "    else:\n",
    "        print(f\"Sorry, you've used all {max_attempts} attempts. The word was '{selected_word}'.\")\n",
    "\n",
    "if __name__ == \"__main__\":\n",
    "    word_scramble_game()\n",
    "\n"
   ]
  },
  {
   "cell_type": "code",
   "execution_count": null,
   "id": "057693ac-660d-40e8-a0db-3230bf6d55b4",
   "metadata": {},
   "outputs": [],
   "source": []
  }
 ],
 "metadata": {
  "kernelspec": {
   "display_name": "Python 3 (ipykernel)",
   "language": "python",
   "name": "python3"
  },
  "language_info": {
   "codemirror_mode": {
    "name": "ipython",
    "version": 3
   },
   "file_extension": ".py",
   "mimetype": "text/x-python",
   "name": "python",
   "nbconvert_exporter": "python",
   "pygments_lexer": "ipython3",
   "version": "3.11.7"
  }
 },
 "nbformat": 4,
 "nbformat_minor": 5
}
